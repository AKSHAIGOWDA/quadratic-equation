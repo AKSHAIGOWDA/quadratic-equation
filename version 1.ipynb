{
 "cells": [
  {
   "cell_type": "code",
   "execution_count": 1,
   "metadata": {},
   "outputs": [],
   "source": [
    "from math import sqrt"
   ]
  },
  {
   "cell_type": "code",
   "execution_count": 2,
   "metadata": {},
   "outputs": [
    {
     "name": "stdout",
     "output_type": "stream",
     "text": [
      "the roots are: -0.585786 and -3.414214\n"
     ]
    }
   ],
   "source": [
    "a=5\n",
    "b=20\n",
    "c=10\n",
    "d=(b*b)-(4*a*c)\n",
    "x1=(((-b)+sqrt(d))/(2*a))\n",
    "x2=(((-b)-sqrt(d))/(2*a))\n",
    "print(\"the roots are: %f and %f\" %(x1,x2))"
   ]
  },
  {
   "cell_type": "markdown",
   "metadata": {},
   "source": [
    "->Basic implementation of quadratic equation using math formula"
   ]
  }
 ],
 "metadata": {
  "kernelspec": {
   "display_name": "Python 3",
   "language": "python",
   "name": "python3"
  },
  "language_info": {
   "codemirror_mode": {
    "name": "ipython",
    "version": 3
   },
   "file_extension": ".py",
   "mimetype": "text/x-python",
   "name": "python",
   "nbconvert_exporter": "python",
   "pygments_lexer": "ipython3",
   "version": "3.7.6"
  }
 },
 "nbformat": 4,
 "nbformat_minor": 4
}
