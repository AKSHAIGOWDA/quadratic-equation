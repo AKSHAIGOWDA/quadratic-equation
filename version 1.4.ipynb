{
 "cells": [
  {
   "cell_type": "code",
   "execution_count": 1,
   "metadata": {},
   "outputs": [],
   "source": [
    "from math import sqrt"
   ]
  },
  {
   "cell_type": "code",
   "execution_count": 7,
   "metadata": {},
   "outputs": [
    {
     "name": "stdout",
     "output_type": "stream",
     "text": [
      "enter the values of a,b,c\n",
      "5\n",
      "20\n",
      "10\n",
      "roots are real\n",
      "the roots are: -0.585786 and -3.414214\n"
     ]
    }
   ],
   "source": [
    "print(\"enter the values of a,b,c\")\n",
    "a=float(input())\n",
    "b=float(input())\n",
    "c=float(input())\n",
    "d=(b*b)-(4*a*c)\n",
    "if(a==0):\n",
    "    print(\"divide by zero error\")\n",
    "else:\n",
    "    if(d>0):\n",
    "        print(\"roots are real\")\n",
    "        x1=(((-b)+sqrt(d))/(2*a))\n",
    "        x2=(((-b)-sqrt(d))/(2*a))\n",
    "        print(\"the roots are: %f and %f\" %(x1,x2))\n",
    "    elif(d<0):\n",
    "        print(\"roots are imaginary\")\n",
    "        x1=x2=(-b/(2*a))\n",
    "        j=(sqrt(-d))/(2*a)\n",
    "        print(\"x1= %.2f + %.2f i and x2= %.2f - %.2f i\"%(x1,j,x2,j))\n",
    "    else:\n",
    "        print(\"roots are equal\")\n",
    "        x1=x2=(-b/(2*a))\n",
    "        print(\"x1= %.2f  and x2= %.2f \"%(x1,x2))"
   ]
  },
  {
   "cell_type": "markdown",
   "metadata": {},
   "source": [
    "->Extra Feature added......\n",
    "->option to enter inputs from keyboard"
   ]
  }
 ],
 "metadata": {
  "kernelspec": {
   "display_name": "Python 3",
   "language": "python",
   "name": "python3"
  },
  "language_info": {
   "codemirror_mode": {
    "name": "ipython",
    "version": 3
   },
   "file_extension": ".py",
   "mimetype": "text/x-python",
   "name": "python",
   "nbconvert_exporter": "python",
   "pygments_lexer": "ipython3",
   "version": "3.7.6"
  }
 },
 "nbformat": 4,
 "nbformat_minor": 4
}
