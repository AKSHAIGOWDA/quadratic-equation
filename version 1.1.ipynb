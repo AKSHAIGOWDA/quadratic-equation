{
 "cells": [
  {
   "cell_type": "code",
   "execution_count": 1,
   "metadata": {},
   "outputs": [],
   "source": [
    "from math import sqrt"
   ]
  },
  {
   "cell_type": "code",
   "execution_count": 2,
   "metadata": {},
   "outputs": [
    {
     "name": "stdout",
     "output_type": "stream",
     "text": [
      "roots are imaginary\n",
      "x1= -2.00 + 1.00 i and x2= -2.00 - 1.00 i\n"
     ]
    }
   ],
   "source": [
    "a=1\n",
    "b=4\n",
    "c=5\n",
    "d=(b*b)-(4*a*c)\n",
    "if(d>0):\n",
    "    print(\"roots are real\")\n",
    "    x1=(((-b)+sqrt(d))/(2*a))\n",
    "    x2=(((-b)-sqrt(d))/(2*a))\n",
    "    print(\"the roots are: %f and %f\" %(x1,x2))\n",
    "elif(d<0):\n",
    "    print(\"roots are imaginary\")\n",
    "    x1=x2=(-b/(2*a))\n",
    "    j=(sqrt(-d))/(2*a)\n",
    "    print(\"x1= %.2f + %.2f i and x2= %.2f - %.2f i\"%(x1,j,x2,j))"
   ]
  },
  {
   "cell_type": "markdown",
   "metadata": {},
   "source": [
    "->bugs fixed....\n",
    "->could not get complex values before"
   ]
  }
 ],
 "metadata": {
  "kernelspec": {
   "display_name": "Python 3",
   "language": "python",
   "name": "python3"
  },
  "language_info": {
   "codemirror_mode": {
    "name": "ipython",
    "version": 3
   },
   "file_extension": ".py",
   "mimetype": "text/x-python",
   "name": "python",
   "nbconvert_exporter": "python",
   "pygments_lexer": "ipython3",
   "version": "3.7.6"
  }
 },
 "nbformat": 4,
 "nbformat_minor": 4
}
